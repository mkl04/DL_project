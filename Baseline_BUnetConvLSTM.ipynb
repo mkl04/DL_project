{
 "cells": [
  {
   "cell_type": "code",
   "execution_count": 1,
   "metadata": {},
   "outputs": [
    {
     "name": "stderr",
     "output_type": "stream",
     "text": [
      "Using TensorFlow backend.\n",
      "/usr/local/lib/python3.5/dist-packages/tensorflow/python/framework/dtypes.py:526: FutureWarning: Passing (type, 1) or '1type' as a synonym of type is deprecated; in a future version of numpy, it will be understood as (type, (1,)) / '(1,)type'.\n",
      "  _np_qint8 = np.dtype([(\"qint8\", np.int8, 1)])\n",
      "/usr/local/lib/python3.5/dist-packages/tensorflow/python/framework/dtypes.py:527: FutureWarning: Passing (type, 1) or '1type' as a synonym of type is deprecated; in a future version of numpy, it will be understood as (type, (1,)) / '(1,)type'.\n",
      "  _np_quint8 = np.dtype([(\"quint8\", np.uint8, 1)])\n",
      "/usr/local/lib/python3.5/dist-packages/tensorflow/python/framework/dtypes.py:528: FutureWarning: Passing (type, 1) or '1type' as a synonym of type is deprecated; in a future version of numpy, it will be understood as (type, (1,)) / '(1,)type'.\n",
      "  _np_qint16 = np.dtype([(\"qint16\", np.int16, 1)])\n",
      "/usr/local/lib/python3.5/dist-packages/tensorflow/python/framework/dtypes.py:529: FutureWarning: Passing (type, 1) or '1type' as a synonym of type is deprecated; in a future version of numpy, it will be understood as (type, (1,)) / '(1,)type'.\n",
      "  _np_quint16 = np.dtype([(\"quint16\", np.uint16, 1)])\n",
      "/usr/local/lib/python3.5/dist-packages/tensorflow/python/framework/dtypes.py:530: FutureWarning: Passing (type, 1) or '1type' as a synonym of type is deprecated; in a future version of numpy, it will be understood as (type, (1,)) / '(1,)type'.\n",
      "  _np_qint32 = np.dtype([(\"qint32\", np.int32, 1)])\n",
      "/usr/local/lib/python3.5/dist-packages/tensorflow/python/framework/dtypes.py:535: FutureWarning: Passing (type, 1) or '1type' as a synonym of type is deprecated; in a future version of numpy, it will be understood as (type, (1,)) / '(1,)type'.\n",
      "  np_resource = np.dtype([(\"resource\", np.ubyte, 1)])\n"
     ]
    }
   ],
   "source": [
    "import numpy as np\n",
    "import os\n",
    "from os.path import join as pjoin\n",
    "\n",
    "from keras.optimizers import RMSprop, Adam\n",
    "from keras.callbacks import EarlyStopping, ReduceLROnPlateau, LearningRateScheduler, ModelCheckpoint\n",
    "\n",
    "import tensorflow as tf\n",
    "from keras import backend as K"
   ]
  },
  {
   "cell_type": "code",
   "execution_count": 2,
   "metadata": {},
   "outputs": [],
   "source": [
    "from dataloader import section_loader_ts, F3_generator\n",
    "from models import BUnetConvLSTM_Nto1\n",
    "from metrics import mIoU\n",
    "from utils import make_aug, PlotHistory"
   ]
  },
  {
   "cell_type": "code",
   "execution_count": 3,
   "metadata": {},
   "outputs": [],
   "source": [
    "lossf = 'categorical_crossentropy'\n",
    "\n",
    "bs = 1\n",
    "_epochs = 100\n",
    "verbose_train = 2\n",
    "type_aug = \"no_aug\" #no_aug, aug1\n",
    "f1 = 16\n",
    "\n",
    "os.environ[\"CUDA_VISIBLE_DEVICES\"] = \"1\""
   ]
  },
  {
   "cell_type": "markdown",
   "metadata": {},
   "source": [
    "### Load Data"
   ]
  },
  {
   "cell_type": "code",
   "execution_count": 4,
   "metadata": {},
   "outputs": [
    {
     "name": "stdout",
     "output_type": "stream",
     "text": [
      "WARNING:tensorflow:From /usr/local/lib/python3.5/dist-packages/tensorflow/python/data/ops/dataset_ops.py:429: py_func (from tensorflow.python.ops.script_ops) is deprecated and will be removed in a future version.\n",
      "Instructions for updating:\n",
      "tf.py_func is deprecated in TF V2. Instead, use\n",
      "    tf.py_function, which takes a python function which manipulates tf eager\n",
      "    tensors instead of numpy arrays. It's easy to convert a tf eager tensor to\n",
      "    an ndarray (just call tensor.numpy()) but having access to eager tensors\n",
      "    means `tf.py_function`s can use accelerators such as GPUs as well as\n",
      "    being differentiable using a gradient tape.\n",
      "    \n"
     ]
    }
   ],
   "source": [
    "train_loader_i = section_loader_ts(direct = 'i', split = 'train')\n",
    "train_loader_x = section_loader_ts(direct = 'x', split = 'train')\n",
    "val_loader_i = section_loader_ts(direct = 'i',split = 'val')\n",
    "val_loader_x = section_loader_ts(direct = 'x',split = 'val')\n",
    "\n",
    "dat_tr1 = tf.data.Dataset.from_generator(train_loader_i.generator, output_types = (tf.float64, tf.float32), \n",
    "                                         output_shapes = ((5,688,256,1), (688,256,6)))\n",
    "dat_tr2 = tf.data.Dataset.from_generator(train_loader_x.generator, output_types = (tf.float64, tf.float32),\n",
    "                                        output_shapes = ((5,400,256,1), (400,256,6)))\n",
    "\n",
    "dat_vl1 = tf.data.Dataset.from_generator(val_loader_i.generator, output_types = (tf.float64, tf.float32),\n",
    "                                        output_shapes = ((5,688,256,1), (688,256,6)))\n",
    "dat_vl2 = tf.data.Dataset.from_generator(val_loader_x.generator, output_types = (tf.float64, tf.float32),\n",
    "                                        output_shapes = ((5,400,256,1), (400,256,6)))"
   ]
  },
  {
   "cell_type": "code",
   "execution_count": 5,
   "metadata": {},
   "outputs": [],
   "source": [
    "data_tr = [make_aug(dat_tr1, type_aug), make_aug(dat_tr2, type_aug)]\n",
    "data_vl = [dat_vl1, dat_vl2]\n",
    "\n",
    "num_train = len(train_loader_i) + len(train_loader_x)\n",
    "num_val = len(val_loader_i) + len(val_loader_x)"
   ]
  },
  {
   "cell_type": "code",
   "execution_count": 6,
   "metadata": {},
   "outputs": [],
   "source": [
    "train_gen = F3_generator(data_tr, bs)\n",
    "val_gen = F3_generator(data_vl, bs)"
   ]
  },
  {
   "cell_type": "markdown",
   "metadata": {},
   "source": [
    "### Modeling"
   ]
  },
  {
   "cell_type": "code",
   "execution_count": 7,
   "metadata": {},
   "outputs": [
    {
     "name": "stdout",
     "output_type": "stream",
     "text": [
      "WARNING:tensorflow:From /usr/local/lib/python3.5/dist-packages/tensorflow/python/framework/op_def_library.py:263: colocate_with (from tensorflow.python.framework.ops) is deprecated and will be removed in a future version.\n",
      "Instructions for updating:\n",
      "Colocations handled automatically by placer.\n",
      "_________________________________________________________________\n",
      "Layer (type)                 Output Shape              Param #   \n",
      "=================================================================\n",
      "input_1 (InputLayer)         (None, 5, None, None, 1)  0         \n",
      "_________________________________________________________________\n",
      "time_distributed_1 (TimeDist (None, 5, None, None, 32) 320       \n",
      "_________________________________________________________________\n",
      "batch_normalization_1 (Batch (None, 5, None, None, 32) 128       \n",
      "_________________________________________________________________\n",
      "activation_1 (Activation)    (None, 5, None, None, 32) 0         \n",
      "_________________________________________________________________\n",
      "time_distributed_2 (TimeDist (None, 5, None, None, 32) 9248      \n",
      "_________________________________________________________________\n",
      "batch_normalization_2 (Batch (None, 5, None, None, 32) 128       \n",
      "_________________________________________________________________\n",
      "activation_2 (Activation)    (None, 5, None, None, 32) 0         \n",
      "_________________________________________________________________\n",
      "time_distributed_3 (TimeDist (None, 5, None, None, 32) 0         \n",
      "_________________________________________________________________\n",
      "time_distributed_4 (TimeDist (None, 5, None, None, 64) 18496     \n",
      "_________________________________________________________________\n",
      "batch_normalization_3 (Batch (None, 5, None, None, 64) 256       \n",
      "_________________________________________________________________\n",
      "activation_3 (Activation)    (None, 5, None, None, 64) 0         \n",
      "_________________________________________________________________\n",
      "time_distributed_5 (TimeDist (None, 5, None, None, 64) 0         \n",
      "_________________________________________________________________\n",
      "time_distributed_6 (TimeDist (None, 5, None, None, 128 73856     \n",
      "_________________________________________________________________\n",
      "batch_normalization_4 (Batch (None, 5, None, None, 128 512       \n",
      "_________________________________________________________________\n",
      "activation_4 (Activation)    (None, 5, None, None, 128 0         \n",
      "_________________________________________________________________\n",
      "time_distributed_7 (TimeDist (None, 5, None, None, 128 0         \n",
      "_________________________________________________________________\n",
      "bidirectional_1 (Bidirection (None, None, None, 128)   885248    \n",
      "_________________________________________________________________\n",
      "conv2d_transpose_1 (Conv2DTr (None, None, None, 128)   147584    \n",
      "_________________________________________________________________\n",
      "batch_normalization_5 (Batch (None, None, None, 128)   512       \n",
      "_________________________________________________________________\n",
      "activation_5 (Activation)    (None, None, None, 128)   0         \n",
      "_________________________________________________________________\n",
      "conv2d_5 (Conv2D)            (None, None, None, 128)   147584    \n",
      "_________________________________________________________________\n",
      "batch_normalization_6 (Batch (None, None, None, 128)   512       \n",
      "_________________________________________________________________\n",
      "activation_6 (Activation)    (None, None, None, 128)   0         \n",
      "_________________________________________________________________\n",
      "conv2d_transpose_2 (Conv2DTr (None, None, None, 64)    73792     \n",
      "_________________________________________________________________\n",
      "batch_normalization_7 (Batch (None, None, None, 64)    256       \n",
      "_________________________________________________________________\n",
      "activation_7 (Activation)    (None, None, None, 64)    0         \n",
      "_________________________________________________________________\n",
      "conv2d_6 (Conv2D)            (None, None, None, 64)    36928     \n",
      "_________________________________________________________________\n",
      "batch_normalization_8 (Batch (None, None, None, 64)    256       \n",
      "_________________________________________________________________\n",
      "activation_8 (Activation)    (None, None, None, 64)    0         \n",
      "_________________________________________________________________\n",
      "conv2d_transpose_3 (Conv2DTr (None, None, None, 32)    18464     \n",
      "_________________________________________________________________\n",
      "batch_normalization_9 (Batch (None, None, None, 32)    128       \n",
      "_________________________________________________________________\n",
      "activation_9 (Activation)    (None, None, None, 32)    0         \n",
      "_________________________________________________________________\n",
      "conv2d_7 (Conv2D)            (None, None, None, 32)    9248      \n",
      "_________________________________________________________________\n",
      "batch_normalization_10 (Batc (None, None, None, 32)    128       \n",
      "_________________________________________________________________\n",
      "activation_10 (Activation)   (None, None, None, 32)    0         \n",
      "_________________________________________________________________\n",
      "conv2d_8 (Conv2D)            (None, None, None, 6)     198       \n",
      "=================================================================\n",
      "Total params: 1,423,782\n",
      "Trainable params: 1,422,374\n",
      "Non-trainable params: 1,408\n",
      "_________________________________________________________________\n"
     ]
    }
   ],
   "source": [
    "model = BUnetConvLSTM_Nto1(n_classes=6, filters=32, ts=5)\n",
    "model.summary()"
   ]
  },
  {
   "cell_type": "code",
   "execution_count": 8,
   "metadata": {},
   "outputs": [],
   "source": [
    "lr = 1e-3\n",
    "lossf = 'categorical_crossentropy'\n",
    "\n",
    "# opt = RMSprop(lr=lr)  \n",
    "opt = Adam(lr=lr, amsgrad=False)\n",
    "\n",
    "model.compile(optimizer=opt,\n",
    "              loss = lossf,\n",
    "              metrics=['acc', mIoU])"
   ]
  },
  {
   "cell_type": "markdown",
   "metadata": {},
   "source": [
    "### Training"
   ]
  },
  {
   "cell_type": "code",
   "execution_count": 9,
   "metadata": {},
   "outputs": [],
   "source": [
    "filepath = 'BUnetConvLSTM_' + str(f1) + '_' + type_aug + '_bn_ep100.h5'\n",
    "stopPatience = 10"
   ]
  },
  {
   "cell_type": "code",
   "execution_count": 10,
   "metadata": {},
   "outputs": [],
   "source": [
    "modelCheck = ModelCheckpoint(filepath,verbose=1, save_best_only=True, save_weights_only=True, period=1) # monitor=\"val_dice_loss\", mode = 'min')\n",
    "earlystopper = EarlyStopping(patience=stopPatience, verbose=1) # monitor=\"val_dice_loss\", mode = 'min')\n",
    "reduce_lr = ReduceLROnPlateau(factor=0.5, patience=stopPatience//2, min_lr=0.0000005, verbose=1) # monitor=\"val_dice_loss\", mode = 'min')\n",
    "cb = [earlystopper,reduce_lr,modelCheck]"
   ]
  },
  {
   "cell_type": "code",
   "execution_count": 11,
   "metadata": {},
   "outputs": [
    {
     "name": "stdout",
     "output_type": "stream",
     "text": [
      "WARNING:tensorflow:From /usr/local/lib/python3.5/dist-packages/tensorflow/python/ops/math_ops.py:3066: to_int32 (from tensorflow.python.ops.math_ops) is deprecated and will be removed in a future version.\n",
      "Instructions for updating:\n",
      "Use tf.cast instead.\n",
      "WARNING:tensorflow:From /usr/local/lib/python3.5/dist-packages/tensorflow/python/ops/math_grad.py:102: div (from tensorflow.python.ops.math_ops) is deprecated and will be removed in a future version.\n",
      "Instructions for updating:\n",
      "Deprecated in favor of operator or tf.math.divide.\n",
      "Epoch 1/100\n",
      " - 72s - loss: 0.2186 - acc: 0.9525 - mIoU: 0.7301 - val_loss: 0.1654 - val_acc: 0.9592 - val_mIoU: 0.7359\n",
      "\n",
      "Epoch 00001: val_loss improved from inf to 0.16536, saving model to BUnetConvLSTM_16_aug1_bn_ep100.h5\n",
      "Epoch 2/100\n",
      " - 63s - loss: 0.1006 - acc: 0.9791 - mIoU: 0.8618 - val_loss: 0.0890 - val_acc: 0.9805 - val_mIoU: 0.8685\n",
      "\n",
      "Epoch 00002: val_loss improved from 0.16536 to 0.08900, saving model to BUnetConvLSTM_16_aug1_bn_ep100.h5\n",
      "Epoch 3/100\n",
      " - 63s - loss: 0.0796 - acc: 0.9819 - mIoU: 0.8898 - val_loss: 0.0679 - val_acc: 0.9845 - val_mIoU: 0.9109\n",
      "\n",
      "Epoch 00003: val_loss improved from 0.08900 to 0.06794, saving model to BUnetConvLSTM_16_aug1_bn_ep100.h5\n",
      "Epoch 4/100\n",
      " - 63s - loss: 0.0608 - acc: 0.9854 - mIoU: 0.9237 - val_loss: 0.0596 - val_acc: 0.9845 - val_mIoU: 0.9163\n",
      "\n",
      "Epoch 00004: val_loss improved from 0.06794 to 0.05960, saving model to BUnetConvLSTM_16_aug1_bn_ep100.h5\n",
      "Epoch 5/100\n",
      " - 63s - loss: 0.0544 - acc: 0.9854 - mIoU: 0.9201 - val_loss: 0.0537 - val_acc: 0.9846 - val_mIoU: 0.9061\n",
      "\n",
      "Epoch 00005: val_loss improved from 0.05960 to 0.05368, saving model to BUnetConvLSTM_16_aug1_bn_ep100.h5\n",
      "Epoch 6/100\n",
      " - 63s - loss: 0.0444 - acc: 0.9873 - mIoU: 0.9386 - val_loss: 0.0473 - val_acc: 0.9855 - val_mIoU: 0.9194\n",
      "\n",
      "Epoch 00006: val_loss improved from 0.05368 to 0.04727, saving model to BUnetConvLSTM_16_aug1_bn_ep100.h5\n",
      "Epoch 7/100\n",
      " - 63s - loss: 0.0482 - acc: 0.9852 - mIoU: 0.9180 - val_loss: 1.2756 - val_acc: 0.7439 - val_mIoU: 0.4378\n",
      "\n",
      "Epoch 00007: val_loss did not improve from 0.04727\n",
      "Epoch 8/100\n",
      " - 63s - loss: 0.0410 - acc: 0.9869 - mIoU: 0.9301 - val_loss: 0.0390 - val_acc: 0.9873 - val_mIoU: 0.9218\n",
      "\n",
      "Epoch 00008: val_loss improved from 0.04727 to 0.03898, saving model to BUnetConvLSTM_16_aug1_bn_ep100.h5\n",
      "Epoch 9/100\n",
      " - 63s - loss: 0.0330 - acc: 0.9894 - mIoU: 0.9514 - val_loss: 0.0358 - val_acc: 0.9883 - val_mIoU: 0.9341\n",
      "\n",
      "Epoch 00009: val_loss improved from 0.03898 to 0.03582, saving model to BUnetConvLSTM_16_aug1_bn_ep100.h5\n",
      "Epoch 10/100\n",
      " - 63s - loss: 0.0297 - acc: 0.9903 - mIoU: 0.9547 - val_loss: 0.0344 - val_acc: 0.9885 - val_mIoU: 0.9332\n",
      "\n",
      "Epoch 00010: val_loss improved from 0.03582 to 0.03442, saving model to BUnetConvLSTM_16_aug1_bn_ep100.h5\n",
      "Epoch 11/100\n",
      " - 63s - loss: 0.0268 - acc: 0.9910 - mIoU: 0.9582 - val_loss: 0.0340 - val_acc: 0.9883 - val_mIoU: 0.9390\n",
      "\n",
      "Epoch 00011: val_loss improved from 0.03442 to 0.03398, saving model to BUnetConvLSTM_16_aug1_bn_ep100.h5\n",
      "Epoch 12/100\n",
      " - 63s - loss: 0.0242 - acc: 0.9917 - mIoU: 0.9601 - val_loss: 0.0325 - val_acc: 0.9888 - val_mIoU: 0.9368\n",
      "\n",
      "Epoch 00012: val_loss improved from 0.03398 to 0.03255, saving model to BUnetConvLSTM_16_aug1_bn_ep100.h5\n",
      "Epoch 13/100\n",
      " - 63s - loss: 0.0327 - acc: 0.9887 - mIoU: 0.9364 - val_loss: 0.0314 - val_acc: 0.9890 - val_mIoU: 0.9371\n",
      "\n",
      "Epoch 00013: val_loss improved from 0.03255 to 0.03139, saving model to BUnetConvLSTM_16_aug1_bn_ep100.h5\n",
      "Epoch 14/100\n",
      " - 63s - loss: 0.0218 - acc: 0.9924 - mIoU: 0.9652 - val_loss: 0.0290 - val_acc: 0.9898 - val_mIoU: 0.9405\n",
      "\n",
      "Epoch 00014: val_loss improved from 0.03139 to 0.02903, saving model to BUnetConvLSTM_16_aug1_bn_ep100.h5\n",
      "Epoch 15/100\n",
      " - 63s - loss: 0.0195 - acc: 0.9932 - mIoU: 0.9669 - val_loss: 0.0288 - val_acc: 0.9898 - val_mIoU: 0.9442\n",
      "\n",
      "Epoch 00015: val_loss improved from 0.02903 to 0.02875, saving model to BUnetConvLSTM_16_aug1_bn_ep100.h5\n",
      "Epoch 16/100\n",
      " - 63s - loss: 0.0183 - acc: 0.9936 - mIoU: 0.9706 - val_loss: 0.0284 - val_acc: 0.9901 - val_mIoU: 0.9343\n",
      "\n",
      "Epoch 00016: val_loss improved from 0.02875 to 0.02844, saving model to BUnetConvLSTM_16_aug1_bn_ep100.h5\n",
      "Epoch 17/100\n",
      " - 63s - loss: 0.0178 - acc: 0.9937 - mIoU: 0.9693 - val_loss: 0.0263 - val_acc: 0.9907 - val_mIoU: 0.9472\n",
      "\n",
      "Epoch 00017: val_loss improved from 0.02844 to 0.02626, saving model to BUnetConvLSTM_16_aug1_bn_ep100.h5\n",
      "Epoch 18/100\n",
      " - 63s - loss: 0.0264 - acc: 0.9908 - mIoU: 0.9469 - val_loss: 0.0332 - val_acc: 0.9876 - val_mIoU: 0.9320\n",
      "\n",
      "Epoch 00018: val_loss did not improve from 0.02626\n",
      "Epoch 19/100\n",
      " - 63s - loss: 0.0184 - acc: 0.9934 - mIoU: 0.9695 - val_loss: 0.0263 - val_acc: 0.9909 - val_mIoU: 0.9400\n",
      "\n",
      "Epoch 00019: val_loss did not improve from 0.02626\n",
      "Epoch 20/100\n",
      " - 63s - loss: 0.0148 - acc: 0.9948 - mIoU: 0.9763 - val_loss: 0.0262 - val_acc: 0.9912 - val_mIoU: 0.9506\n",
      "\n",
      "Epoch 00020: val_loss improved from 0.02626 to 0.02618, saving model to BUnetConvLSTM_16_aug1_bn_ep100.h5\n",
      "Epoch 21/100\n",
      " - 63s - loss: 0.0142 - acc: 0.9950 - mIoU: 0.9761 - val_loss: 0.0269 - val_acc: 0.9909 - val_mIoU: 0.9443\n",
      "\n",
      "Epoch 00021: val_loss did not improve from 0.02618\n",
      "Epoch 22/100\n",
      " - 63s - loss: 0.0139 - acc: 0.9951 - mIoU: 0.9762 - val_loss: 0.0245 - val_acc: 0.9917 - val_mIoU: 0.9533\n",
      "\n",
      "Epoch 00022: val_loss improved from 0.02618 to 0.02448, saving model to BUnetConvLSTM_16_aug1_bn_ep100.h5\n",
      "Epoch 23/100\n",
      " - 63s - loss: 0.0134 - acc: 0.9952 - mIoU: 0.9767 - val_loss: 0.0254 - val_acc: 0.9913 - val_mIoU: 0.9479\n",
      "\n",
      "Epoch 00023: val_loss did not improve from 0.02448\n",
      "Epoch 24/100\n",
      " - 63s - loss: 0.0130 - acc: 0.9953 - mIoU: 0.9743 - val_loss: 0.0250 - val_acc: 0.9914 - val_mIoU: 0.9470\n",
      "\n",
      "Epoch 00024: val_loss did not improve from 0.02448\n",
      "Epoch 25/100\n",
      " - 63s - loss: 0.0257 - acc: 0.9909 - mIoU: 0.9475 - val_loss: 0.0250 - val_acc: 0.9913 - val_mIoU: 0.9455\n",
      "\n",
      "Epoch 00025: val_loss did not improve from 0.02448\n",
      "Epoch 26/100\n",
      " - 63s - loss: 0.0125 - acc: 0.9955 - mIoU: 0.9786 - val_loss: 0.0251 - val_acc: 0.9918 - val_mIoU: 0.9459\n",
      "\n",
      "Epoch 00026: val_loss did not improve from 0.02448\n",
      "Epoch 27/100\n",
      " - 63s - loss: 0.0112 - acc: 0.9960 - mIoU: 0.9810 - val_loss: 0.0248 - val_acc: 0.9920 - val_mIoU: 0.9507\n",
      "\n",
      "Epoch 00027: ReduceLROnPlateau reducing learning rate to 0.0005000000237487257.\n",
      "\n",
      "Epoch 00027: val_loss did not improve from 0.02448\n",
      "Epoch 28/100\n",
      " - 63s - loss: 0.0096 - acc: 0.9967 - mIoU: 0.9839 - val_loss: 0.0250 - val_acc: 0.9923 - val_mIoU: 0.9539\n",
      "\n",
      "Epoch 00028: val_loss did not improve from 0.02448\n",
      "Epoch 29/100\n",
      " - 63s - loss: 0.0092 - acc: 0.9969 - mIoU: 0.9838 - val_loss: 0.0259 - val_acc: 0.9923 - val_mIoU: 0.9517\n",
      "\n",
      "Epoch 00029: val_loss did not improve from 0.02448\n",
      "Epoch 30/100\n",
      " - 63s - loss: 0.0090 - acc: 0.9969 - mIoU: 0.9855 - val_loss: 0.0254 - val_acc: 0.9922 - val_mIoU: 0.9502\n",
      "\n",
      "Epoch 00030: val_loss did not improve from 0.02448\n",
      "Epoch 31/100\n",
      " - 63s - loss: 0.0086 - acc: 0.9970 - mIoU: 0.9861 - val_loss: 0.0256 - val_acc: 0.9924 - val_mIoU: 0.9520\n",
      "\n",
      "Epoch 00031: val_loss did not improve from 0.02448\n",
      "Epoch 32/100\n",
      " - 63s - loss: 0.0085 - acc: 0.9970 - mIoU: 0.9843 - val_loss: 0.0254 - val_acc: 0.9924 - val_mIoU: 0.9506\n",
      "\n",
      "Epoch 00032: ReduceLROnPlateau reducing learning rate to 0.0002500000118743628.\n",
      "\n",
      "Epoch 00032: val_loss did not improve from 0.02448\n",
      "Epoch 00032: early stopping\n"
     ]
    }
   ],
   "source": [
    "\n",
    "\n",
    "hs = model.fit_generator(train_gen,epochs=_epochs,\n",
    "                    steps_per_epoch=num_train//bs,\n",
    "                    callbacks=cb,\n",
    "                    validation_data=val_gen, validation_steps=num_val//bs,\n",
    "                    verbose = verbose_train, workers = 0)"
   ]
  },
  {
   "cell_type": "code",
   "execution_count": 12,
   "metadata": {},
   "outputs": [
    {
     "data": {
      "image/png": "[encoded data removed]",
      "text/plain": [
       "<Figure size 432x288 with 1 Axes>"
      ]
     },
     "metadata": {
      "needs_background": "light"
     },
     "output_type": "display_data"
    }
   ],
   "source": [
    "PlotHistory(hs, 'loss')"
   ]
  },
  {
   "cell_type": "markdown",
   "metadata": {},
   "source": [
    "### Validation"
   ]
  },
  {
   "cell_type": "code",
   "execution_count": 13,
   "metadata": {},
   "outputs": [],
   "source": [
    "import matplotlib.pyplot as plt"
   ]
  },
  {
   "cell_type": "code",
   "execution_count": 14,
   "metadata": {},
   "outputs": [],
   "source": [
    "model.load_weights(filepath)"
   ]
  },
  {
   "cell_type": "code",
   "execution_count": 15,
   "metadata": {},
   "outputs": [
    {
     "name": "stdout",
     "output_type": "stream",
     "text": [
      "(5, 688, 256, 1) (688, 256, 6)\n"
     ]
    }
   ],
   "source": [
    "for batch in val_loader_i.generator():\n",
    "    x1, y1 = batch\n",
    "    print(x1.shape, y1.shape)\n",
    "    \n",
    "    break"
   ]
  },
  {
   "cell_type": "code",
   "execution_count": 16,
   "metadata": {},
   "outputs": [
    {
     "data": {
      "text/plain": [
       "(1, 688, 256, 6)"
      ]
     },
     "execution_count": 16,
     "metadata": {},
     "output_type": "execute_result"
    }
   ],
   "source": [
    "y1_hat = model.predict(np.expand_dims(x1,axis=0))\n",
    "y1_hat.shape"
   ]
  },
  {
   "cell_type": "code",
   "execution_count": 17,
   "metadata": {},
   "outputs": [
    {
     "data": {
      "image/png": "[encoded data removed]",
      "text/plain": [
       "<Figure size 1440x144 with 3 Axes>"
      ]
     },
     "metadata": {
      "needs_background": "light"
     },
     "output_type": "display_data"
    }
   ],
   "source": [
    "fig, axs = plt.subplots(nrows=1, ncols=3, figsize=(20,2))\n",
    "axs[0].imshow(x1[-1,:,:,0].T, cmap='gray')\n",
    "axs[1].imshow(np.argmax(y1,axis=-1).T, cmap='jet')\n",
    "axs[2].imshow(np.argmax(y1_hat[0],axis=-1).T, cmap='jet')\n",
    "plt.show()"
   ]
  },
  {
   "cell_type": "markdown",
   "metadata": {},
   "source": [
    "### Testing"
   ]
  },
  {
   "cell_type": "code",
   "execution_count": 18,
   "metadata": {},
   "outputs": [],
   "source": [
    "from dataloader import section_loader_test_ts\n",
    "from utils import calculate_metrics_total"
   ]
  },
  {
   "cell_type": "code",
   "execution_count": 19,
   "metadata": {},
   "outputs": [],
   "source": [
    "root = '/scratch/parceirosbr/maykol.trinidad/dataset/F3'\n",
    "labels1  = np.load(pjoin(root,'test_once', 'test1_labels.npy' ))\n",
    "labels2  = np.load(pjoin(root,'test_once', 'test2_labels.npy' ))"
   ]
  },
  {
   "cell_type": "code",
   "execution_count": 20,
   "metadata": {},
   "outputs": [],
   "source": [
    "model.load_weights(filepath)"
   ]
  },
  {
   "cell_type": "code",
   "execution_count": 21,
   "metadata": {},
   "outputs": [],
   "source": [
    "probs_predict1 = section_loader_test_ts(model, 'test1', get_prob=True)\n",
    "probs_predict2 = section_loader_test_ts(model, 'test2', get_prob=True)\n",
    "\n",
    "labels_predict1 = np.argmax(probs_predict1, axis=-1)\n",
    "labels_predict2 = np.argmax(probs_predict2, axis=-1)"
   ]
  },
  {
   "cell_type": "code",
   "execution_count": 22,
   "metadata": {},
   "outputs": [
    {
     "name": "stdout",
     "output_type": "stream",
     "text": [
      "Accuracy 1:  0.8943\n",
      "Accuracy 2:  0.9283\n",
      "Pixel Accuracy:  0.91\n",
      "Class Accuracy:  [0.574 0.603 0.81  0.968 0.899 0.979]\n",
      "Mean Class Accuracy:  0.8055\n",
      "FWIOU:  0.8392\n",
      "mIoU:  0.7102404589800942\n"
     ]
    }
   ],
   "source": [
    "calculate_metrics_total(labels1, labels_predict1, labels2, labels_predict2)"
   ]
  },
  {
   "cell_type": "code",
   "execution_count": 29,
   "metadata": {},
   "outputs": [
    {
     "data": {
      "image/png": "[encoded data removed]",
      "text/plain": [
       "<Figure size 1440x216 with 2 Axes>"
      ]
     },
     "metadata": {
      "needs_background": "light"
     },
     "output_type": "display_data"
    }
   ],
   "source": [
    "fig, axs = plt.subplots(nrows=1, ncols=2, figsize=(20,3))\n",
    "axs[0].imshow(labels1[0].T, cmap='jet')\n",
    "axs[1].imshow(labels_predict1[0].T, cmap='jet')\n",
    "plt.show()"
   ]
  },
  {
   "cell_type": "code",
   "execution_count": null,
   "metadata": {},
   "outputs": [],
   "source": []
  }
 ],
 "metadata": {
  "kernelspec": {
   "display_name": "Python 3",
   "language": "python",
   "name": "python3"
  },
  "language_info": {
   "codemirror_mode": {
    "name": "ipython",
    "version": 3
   },
   "file_extension": ".py",
   "mimetype": "text/x-python",
   "name": "python",
   "nbconvert_exporter": "python",
   "pygments_lexer": "ipython3",
   "version": "3.5.2"
  }
 },
 "nbformat": 4,
 "nbformat_minor": 4
}
